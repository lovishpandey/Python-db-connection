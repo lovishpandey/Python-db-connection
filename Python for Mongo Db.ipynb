{
 "cells": [
  {
   "cell_type": "code",
   "execution_count": 1,
   "metadata": {},
   "outputs": [
    {
     "name": "stdout",
     "output_type": "stream",
     "text": [
      "Collecting pymongo\n",
      "  Downloading https://files.pythonhosted.org/packages/f8/80/fbe067aff961662cd3e569bcd2cacd02d7b609f6ebe64075b65e5cfce0a9/pymongo-3.11.2-cp37-cp37m-win_amd64.whl (382kB)\n",
      "Installing collected packages: pymongo\n",
      "Successfully installed pymongo-3.11.2\n"
     ]
    }
   ],
   "source": [
    "!python -m pip install pymongo"
   ]
  },
  {
   "cell_type": "code",
   "execution_count": 2,
   "metadata": {},
   "outputs": [],
   "source": [
    "import pymongo"
   ]
  },
  {
   "cell_type": "code",
   "execution_count": 4,
   "metadata": {},
   "outputs": [],
   "source": [
    "DEFAULT_CONNECTION_URL = \"mongodb://localhost:27017/\" ## connection url for local \n",
    "DB_NAME = \"Lovish\"\n",
    "\n",
    "# Establish a connection with mongoDB\n",
    "client = pymongo.MongoClient(DEFAULT_CONNECTION_URL)\n",
    "\n",
    "# Create a DB\n",
    "dataBase = client[DB_NAME]"
   ]
  },
  {
   "cell_type": "code",
   "execution_count": 5,
   "metadata": {},
   "outputs": [
    {
     "data": {
      "text/plain": [
       "['admin', 'config', 'local']"
      ]
     },
     "execution_count": 5,
     "metadata": {},
     "output_type": "execute_result"
    }
   ],
   "source": [
    "client.list_database_names()"
   ]
  },
  {
   "cell_type": "code",
   "execution_count": 10,
   "metadata": {},
   "outputs": [
    {
     "name": "stdout",
     "output_type": "stream",
     "text": [
      "DB: 'Lovish' exists\n"
     ]
    }
   ],
   "source": [
    "def checkExistence_DB(DB_NAME, client):\n",
    "    DBlist = client.list_database_names()\n",
    "    if DB_NAME in DBlist:\n",
    "        print(f\"DB: '{DB_NAME}' exists\")\n",
    "        return True\n",
    "    print(f\"DB: '{DB_NAME}' not yet present OR no collection is present in the DB\")\n",
    "    return False\n",
    "\n",
    "\n",
    "_ = checkExistence_DB(DB_NAME=DB_NAME, client=client)"
   ]
  },
  {
   "cell_type": "code",
   "execution_count": 8,
   "metadata": {},
   "outputs": [],
   "source": [
    "COLLECTION_NAME = \"Lovish Pandey\"\n",
    "collection = dataBase[COLLECTION_NAME]"
   ]
  },
  {
   "cell_type": "code",
   "execution_count": 9,
   "metadata": {},
   "outputs": [
    {
     "data": {
      "text/plain": [
       "<pymongo.results.InsertOneResult at 0x20041c32748>"
      ]
     },
     "execution_count": 9,
     "metadata": {},
     "output_type": "execute_result"
    }
   ],
   "source": [
    "record = {'companyName': 'iNeuron',\n",
    "         'product': 'Affordable AI',\n",
    "         'courseOffered': 'Deep Learning for Computer Vision'}\n",
    "\n",
    "collection.insert_one(record)"
   ]
  },
  {
   "cell_type": "code",
   "execution_count": 12,
   "metadata": {},
   "outputs": [],
   "source": [
    "def checkExistence_COL(COLLECTION_NAME, DB_NAME, db):\n",
    "    \n",
    "    collection_list = db.list_collection_names()\n",
    "    \n",
    "    if COLLECTION_NAME in collection_list:\n",
    "        print(f\"Collection:'{COLLECTION_NAME}' in Database:'{DB_NAME}' exists\")\n",
    "        return True\n",
    "    \n",
    "    print(f\"Collection:'{COLLECTION_NAME}' in Database:'{DB_NAME}' does not exists OR \\n\\\n",
    "    no documents are present in the collection\")\n",
    "    return False"
   ]
  },
  {
   "cell_type": "code",
   "execution_count": 16,
   "metadata": {},
   "outputs": [
    {
     "name": "stdout",
     "output_type": "stream",
     "text": [
      "Collection:'Lovish Pandey' in Database:'Lovish' exists\n"
     ]
    }
   ],
   "source": [
    "_ = checkExistence_COL(COLLECTION_NAME=COLLECTION_NAME, DB_NAME=DB_NAME, db=dataBase)"
   ]
  },
  {
   "cell_type": "code",
   "execution_count": 18,
   "metadata": {},
   "outputs": [
    {
     "data": {
      "text/plain": [
       "<pymongo.results.InsertOneResult at 0x20043300b08>"
      ]
     },
     "execution_count": 18,
     "metadata": {},
     "output_type": "execute_result"
    }
   ],
   "source": [
    "record = {'companyName': 'cvb',\n",
    "         'product': 'AI',\n",
    "         'courseOffered': 'DL'}\n",
    "collection.insert_one(record)"
   ]
  },
  {
   "cell_type": "code",
   "execution_count": 19,
   "metadata": {},
   "outputs": [
    {
     "data": {
      "text/plain": [
       "<pymongo.results.InsertOneResult at 0x200433007c8>"
      ]
     },
     "execution_count": 19,
     "metadata": {},
     "output_type": "execute_result"
    }
   ],
   "source": [
    "record = {'companyName': 'cvb',         \n",
    "         'courseOffered': 'DL'}\n",
    "collection.insert_one(record)"
   ]
  },
  {
   "cell_type": "code",
   "execution_count": 20,
   "metadata": {},
   "outputs": [
    {
     "data": {
      "text/plain": [
       "<pymongo.results.InsertOneResult at 0x20042319d48>"
      ]
     },
     "execution_count": 20,
     "metadata": {},
     "output_type": "execute_result"
    }
   ],
   "source": [
    "record = {'keyvaluepairchanged': 'cvb',         \n",
    "         'courseOffered': 'DL'}\n",
    "collection.insert_one(record)"
   ]
  },
  {
   "cell_type": "code",
   "execution_count": 21,
   "metadata": {},
   "outputs": [
    {
     "name": "stdout",
     "output_type": "stream",
     "text": [
      "DB: 'Lovish' exists\n"
     ]
    },
    {
     "data": {
      "text/plain": [
       "True"
      ]
     },
     "execution_count": 21,
     "metadata": {},
     "output_type": "execute_result"
    }
   ],
   "source": [
    "checkExistence_DB(DB_NAME=DB_NAME, client=client)"
   ]
  },
  {
   "cell_type": "code",
   "execution_count": 22,
   "metadata": {},
   "outputs": [
    {
     "name": "stdout",
     "output_type": "stream",
     "text": [
      "Collection:'Lovish Pandey' in Database:'Lovish' exists\n"
     ]
    }
   ],
   "source": [
    "_ = checkExistence_COL(COLLECTION_NAME=COLLECTION_NAME, DB_NAME=DB_NAME, db=dataBase)"
   ]
  },
  {
   "cell_type": "code",
   "execution_count": 24,
   "metadata": {},
   "outputs": [],
   "source": [
    "list_of_records = [\n",
    "    {'Name': 'Lovish',\n",
    "     'deg': 'ECE',\n",
    "     'courseOffered': 'ECE,CSE,IT'},\n",
    "    \n",
    "    {'company': 'Cognizant',\n",
    "     'product': 'OneCog',\n",
    "     'courseOffered': 'n/a'},\n",
    "    \n",
    "    {'Name': 'jhk',\n",
    "     'courseOffered': 'FSE'}\n",
    "]\n",
    "rec = collection.insert_many(list_of_records)"
   ]
  },
  {
   "cell_type": "code",
   "execution_count": 25,
   "metadata": {},
   "outputs": [
    {
     "name": "stdout",
     "output_type": "stream",
     "text": [
      "0. 5ffff732a5b4c3b6948b7c79\n",
      "1. 5ffff732a5b4c3b6948b7c7a\n",
      "2. 5ffff732a5b4c3b6948b7c7b\n"
     ]
    }
   ],
   "source": [
    "inserted_IDs = rec.inserted_ids\n",
    "\n",
    "for idx, unique_ids in enumerate(inserted_IDs):\n",
    "    print(f\"{idx}. {unique_ids}\")"
   ]
  },
  {
   "cell_type": "code",
   "execution_count": 26,
   "metadata": {},
   "outputs": [],
   "source": [
    "COLLECTION_NAME = \"with_userunique_id\"\n",
    "faculties = dataBase[COLLECTION_NAME]\n",
    "\n",
    "list_of_records_user_defined_id = [\n",
    "    {\"_id\": \"1\",\n",
    "    \"companyName\": \"qwerty\",\n",
    "    \"Faculty\": \"asdf\"},\n",
    "    {\"_id\": \"2\",\n",
    "    \"companyName\": \"qwerty\",\n",
    "    \"Faculty\": \"fghgh\"},\n",
    "]\n",
    "\n",
    "faculties_record = faculties.insert_many(list_of_records_user_defined_id) ## insert many used for multiple records insertion "
   ]
  },
  {
   "cell_type": "code",
   "execution_count": 27,
   "metadata": {},
   "outputs": [
    {
     "name": "stdout",
     "output_type": "stream",
     "text": [
      "{'_id': '1', 'companyName': 'qwerty', 'Faculty': 'asdf'}\n",
      "{'_id': '2', 'companyName': 'qwerty', 'Faculty': 'fghgh'}\n"
     ]
    }
   ],
   "source": [
    "all_record = faculties.find() ## retrieving records \n",
    "for x in all_record:\n",
    "    print (x)"
   ]
  },
  {
   "cell_type": "code",
   "execution_count": 32,
   "metadata": {},
   "outputs": [
    {
     "name": "stdout",
     "output_type": "stream",
     "text": [
      "{'_id': '1', 'companyName': 'qwerty', 'Faculty': 'asdf'}\n"
     ]
    }
   ],
   "source": [
    "## filter out data \n",
    "query1 = {\"_id\": '1'}\n",
    "\n",
    "results = faculties.find(query1)\n",
    "for data in results:\n",
    "    print(data)"
   ]
  },
  {
   "cell_type": "code",
   "execution_count": 33,
   "metadata": {},
   "outputs": [
    {
     "name": "stdout",
     "output_type": "stream",
     "text": [
      "{'_id': '2', 'companyName': 'qwerty', 'Faculty': 'fghgh'}\n"
     ]
    }
   ],
   "source": [
    "query1 = {\"_id\": {\"$gt\": \"1\"}} ### id is greater than one\n",
    "\n",
    "results = faculties.find(query1)\n",
    "for data in results:\n",
    "    print(data)"
   ]
  },
  {
   "cell_type": "code",
   "execution_count": 35,
   "metadata": {},
   "outputs": [
    {
     "data": {
      "text/plain": [
       "<pymongo.results.InsertManyResult at 0x20043318d88>"
      ]
     },
     "execution_count": 35,
     "metadata": {},
     "output_type": "execute_result"
    }
   ],
   "source": [
    "random_data = [\n",
    "    {'_id': '3', 'companyName': 'c', 'Faculty': 'XYZ'},\n",
    "    {'_id': '4', 'companyName': 'v', 'Faculty': 'ABC'},\n",
    "    {'_id': '5', 'companyName': 'b', 'Faculty': 'PQR'},\n",
    "]\n",
    "faculties.insert_many(random_data)"
   ]
  },
  {
   "cell_type": "code",
   "execution_count": 36,
   "metadata": {},
   "outputs": [
    {
     "data": {
      "text/plain": [
       "<pymongo.results.DeleteResult at 0x20043318288>"
      ]
     },
     "execution_count": 36,
     "metadata": {},
     "output_type": "execute_result"
    }
   ],
   "source": [
    "query_to_delete = {\"Faculty\": \"XYZ\"}\n",
    "faculties.delete_one(query_to_delete)"
   ]
  },
  {
   "cell_type": "code",
   "execution_count": 37,
   "metadata": {},
   "outputs": [
    {
     "data": {
      "text/plain": [
       "<pymongo.results.DeleteResult at 0x20043318e88>"
      ]
     },
     "execution_count": 37,
     "metadata": {},
     "output_type": "execute_result"
    }
   ],
   "source": [
    "multi_query_to_delete = {\"_id\": {\"$gte\": \"4\"}}\n",
    "\n",
    "faculties.delete_many(multi_query_to_delete)"
   ]
  },
  {
   "cell_type": "code",
   "execution_count": null,
   "metadata": {},
   "outputs": [],
   "source": [
    "### faculties.delete_many({}) , for deleting the entire documents present in collection "
   ]
  },
  {
   "cell_type": "code",
   "execution_count": 38,
   "metadata": {},
   "outputs": [],
   "source": [
    "faculties.drop()"
   ]
  },
  {
   "cell_type": "code",
   "execution_count": 43,
   "metadata": {},
   "outputs": [],
   "source": []
  }
 ],
 "metadata": {
  "kernelspec": {
   "display_name": "Python 3",
   "language": "python",
   "name": "python3"
  },
  "language_info": {
   "codemirror_mode": {
    "name": "ipython",
    "version": 3
   },
   "file_extension": ".py",
   "mimetype": "text/x-python",
   "name": "python",
   "nbconvert_exporter": "python",
   "pygments_lexer": "ipython3",
   "version": "3.7.4"
  }
 },
 "nbformat": 4,
 "nbformat_minor": 2
}
